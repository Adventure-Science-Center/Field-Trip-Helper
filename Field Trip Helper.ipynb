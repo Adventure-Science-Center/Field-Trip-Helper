{
 "cells": [
  {
   "cell_type": "code",
   "execution_count": 11,
   "id": "01a474b2",
   "metadata": {},
   "outputs": [],
   "source": [
    "from matplotlib import pyplot as plt\n",
    "import pandas as pd\n",
    "import numpy as np\n",
    "import seaborn as sb\n",
    "import datetime\n",
    "import requests\n",
    "\n",
    "from ipywidgets import widgets\n",
    "from IPython.display import display, HTML, FileLink"
   ]
  },
  {
   "cell_type": "code",
   "execution_count": 136,
   "id": "c876a6d6-5414-4ecc-8a6a-9042dc5b2174",
   "metadata": {},
   "outputs": [
    {
     "data": {
      "application/vnd.jupyter.widget-view+json": {
       "model_id": "504a0a29c92e4d6fbc047e2318f7dec1",
       "version_major": 2,
       "version_minor": 0
      },
      "text/plain": [
       "Output()"
      ]
     },
     "metadata": {},
     "output_type": "display_data"
    },
    {
     "data": {
      "text/html": [
       "<h1>ASC Field Trip Planner</h1>"
      ],
      "text/plain": [
       "<IPython.core.display.HTML object>"
      ]
     },
     "metadata": {},
     "output_type": "display_data"
    },
    {
     "data": {
      "application/vnd.jupyter.widget-view+json": {
       "model_id": "ef347b4daf0941eda83d563eb519da54",
       "version_major": 2,
       "version_minor": 0
      },
      "text/plain": [
       "Output()"
      ]
     },
     "metadata": {},
     "output_type": "display_data"
    }
   ],
   "source": [
    "username = ''\n",
    "password = ''\n",
    "data = pd.DataFrame()\n",
    "\n",
    "def login(*args):\n",
    "    \"\"\"Get the username and password from the login fields and retrieve the data.\"\"\"\n",
    "\n",
    "    global username, password\n",
    "\n",
    "    pw_status.value = username\n",
    "    username = user_field.value\n",
    "    password = pw_field.value\n",
    "\n",
    "    pw_status.value = \"Loading...\"\n",
    "        \n",
    "    retrieve_data()\n",
    "\n",
    "def retrieve_data():\n",
    "    \"\"\"Retrieve the latest data from the server\"\"\"\n",
    "\n",
    "    global data\n",
    "    \n",
    "    url = \"https://s20aalt05web01.sky.blackbaud.com/2532Altru/ODataQuery.ashx?databasename=d32a1a5b-211a-4f58-bab1-36132004843f&AdHocQueryID=379fdd07-ded0-4a38-b183-7c0e49118619\"\n",
    "\n",
    "    session = requests.Session()\n",
    "    session.auth = (username, password)\n",
    "    \n",
    "    r = session.get(url)\n",
    "\n",
    "    data = pd.DataFrame(r.json()['value'])\n",
    "\n",
    "    data[\"Arrival\"] = pd.to_datetime(data[\"Arrival\"])\n",
    "    data[\"Departure\"] = pd.to_datetime(data[\"Departure\"])\n",
    "    \n",
    "    data[\"Start time\"] = data.apply(create_start_time, axis=1)\n",
    "    data[\"End time\"] = data.apply(create_end_time, axis=1)\n",
    "    data[\"Ticket type\"] = data[\"Tickettype\"]\n",
    "    \n",
    "    data = data[[\"Name\", \"Arrival\", \"Departure\", \"Program\", \"Category\", \"Location\", \"Ticket type\", \"Quantity\", \"Capacity\", \"Start time\", \"End time\"]]\n",
    "    \n",
    "    login_output.clear_output()\n",
    "\n",
    "\n",
    "user_label = widgets.Label('Username:', layout=widgets.Layout(width='75px'))\n",
    "user_field = widgets.Text(layout=widgets.Layout(width='175px'))\n",
    "pw_field = widgets.Password(layout=widgets.Layout(width='175px'))\n",
    "pw_submit_button = widgets.Button(description='Login',layout=widgets.Layout(width='75px'))\n",
    "pw_submit_button.on_click(login)\n",
    "pw_status = widgets.Label('', layout=widgets.Layout(width='150px'))\n",
    "pw_label = widgets.Label('Password:', layout=widgets.Layout(width='75px'))\n",
    "\n",
    "pw_login_box = widgets.VBox([\n",
    "    widgets.HBox([user_label, user_field],\n",
    "                layout=widgets.Layout(width='100%',display='inline-flex',flex_flow='row wrap')),\n",
    "    widgets.HBox([pw_label,pw_field], \n",
    "                 layout=widgets.Layout(width='100%',display='inline-flex',flex_flow='row wrap')),\n",
    "    widgets.HBox([ pw_submit_button, pw_status])\n",
    "])\n",
    "\n",
    "login_output = widgets.Output()\n",
    "display(login_output)\n",
    "\n",
    "login_output = widgets.Output()\n",
    "display(HTML('<h1>ASC Field Trip Planner</h1>'))\n",
    "display(login_output)\n",
    "\n",
    "with login_output:\n",
    "    display(pw_login_box)\n",
    "    "
   ]
  },
  {
   "cell_type": "code",
   "execution_count": 198,
   "id": "498382db-4b8c-4dd5-8e37-71825d70d137",
   "metadata": {},
   "outputs": [],
   "source": []
  },
  {
   "cell_type": "code",
   "execution_count": 206,
   "id": "8cd91581-5d92-4919-b071-d69b1b31ae10",
   "metadata": {},
   "outputs": [],
   "source": [
    "browse_date_picker = widgets.DatePicker()\n",
    "browse_select_date_button = widgets.Button(description=\"Select\")\n",
    "browse_select_date_button.on_click(generate_schedule_from_browser)\n",
    "browse_date_box = widgets.HBox([browse_date_picker,browse_select_date_button])\n",
    "\n",
    "browse_output = widgets.Output(layout={'border': '1px solid black'})\n",
    "\n",
    "interface = widgets.Tab(layout=widgets.Layout(width=\"500px\"))\n",
    "interface.children = [\n",
    "     widgets.VBox([browse_date_box, browse_output]),\n",
    "    widgets.DatePicker()\n",
    "]\n",
    "interface.titles = [\"Schedule browser\", \"Find\"]\n",
    "\n",
    "def show_interface(*args):\n",
    "    display(interface)"
   ]
  },
  {
   "cell_type": "code",
   "execution_count": 207,
   "id": "736fed22-1f0a-497a-a8d7-bcc4c334e50a",
   "metadata": {},
   "outputs": [
    {
     "data": {
      "application/vnd.jupyter.widget-view+json": {
       "model_id": "41321fdf45e94e99beeb41a9bb1f87da",
       "version_major": 2,
       "version_minor": 0
      },
      "text/plain": [
       "Tab(children=(VBox(children=(HBox(children=(DatePicker(value=None, step=1), Button(description='Select', style…"
      ]
     },
     "metadata": {},
     "output_type": "display_data"
    }
   ],
   "source": [
    "show_interface()"
   ]
  },
  {
   "cell_type": "code",
   "execution_count": 130,
   "id": "ed371fb4",
   "metadata": {},
   "outputs": [],
   "source": [
    "def create_start_time(row):\n",
    "    date = row[\"Arrival\"]\n",
    "    if row.Starttime is None:\n",
    "        return None\n",
    "    \n",
    "    return pd.Timestamp(date.year, date.month, date.day, int(row.Starttime[0:2]), int(row.Starttime[2:]))\n",
    "\n",
    "def create_end_time(row):\n",
    "    date = row[\"Arrival\"]\n",
    "    if row.Endtime is None:\n",
    "        return None\n",
    "    \n",
    "    return pd.Timestamp(date.year, date.month, date.day, int(row.Endtime[0:2]), int(row.Endtime[2:]))"
   ]
  },
  {
   "cell_type": "code",
   "execution_count": null,
   "id": "3ad1d4ad",
   "metadata": {},
   "outputs": [],
   "source": []
  },
  {
   "cell_type": "code",
   "execution_count": 175,
   "id": "5f4cf3ee",
   "metadata": {},
   "outputs": [],
   "source": [
    "def get_date(df, date):\n",
    "    \"\"\"Return the field trip entries for the given date.\"\"\"\n",
    "    \n",
    "    if isinstance(date, str):\n",
    "        split = date.split('-')\n",
    "        date = datetime.datetime(int(split[0]),int(split[1]),int(split[2])).date()\n",
    "\n",
    "    return df[df.Arrival.dt.date == pd.Timestamp(date).date()]\n",
    "\n",
    "def get_location(df, location):\n",
    "    \"\"\"Return the field trip entries for the given location.\"\"\"\n",
    "    \n",
    "    return df[df.Location == location]\n",
    "\n",
    "def decimal_time(date):\n",
    "    \"Return the time as a decimal number of hours\"\n",
    "    \n",
    "    return date.hour + date.minute/60"
   ]
  },
  {
   "cell_type": "code",
   "execution_count": 193,
   "id": "1af9ef14",
   "metadata": {},
   "outputs": [],
   "source": [
    "def format_name(name):\n",
    "    \"\"\"Format the name of a given program.\"\"\"\n",
    "    \n",
    "    if name == 'SCH - L - Amusement Park Physics STEM Lab':\n",
    "        return \"Amusement\\nPark Physics\"\n",
    "    if name == 'SCH - L - Squid Dissection STEM Lab':\n",
    "        return \"Squid\\nDissection\"\n",
    "    if name == 'SCH - D - Matter Matters':\n",
    "        return \"Matter Matters\"\n",
    "    if name == 'PS - School Shows':\n",
    "        return \"School Show\"\n",
    "    if name == 'SCH - D - Cooking Up a Storm':\n",
    "        return \"Cooking Up\\na Storm\"\n",
    "    if name == 'SCH - L - Cow Eye Dissection STEM Lab':\n",
    "        return \"Cow Eye\\nDissection\"\n",
    "    if name == 'SCH - D - Get Energized!':\n",
    "        return 'Get Energized!'\n",
    "    if name == 'PS - To Worlds Beyond':\n",
    "        return 'To Worlds\\nBeyond'\n",
    "    if name == 'SCH - L - Splitting Molecules STEM Lab':\n",
    "        return 'Splitting\\nMolecules'\n",
    "    if name == 'SCH - D - Space Exploration':\n",
    "        return 'Space\\nExploration'\n",
    "    if name == 'SCH - L - Fetal Pig STEM Lab':\n",
    "        return 'Fetal Pig\\nDissection'\n",
    "    if name == 'PS - Nightwatch':\n",
    "        return 'Nightwatch'\n",
    "    if name == 'SCH - D - Chemistry is a Blast!':\n",
    "        return 'Chemistry\\nis a Blast'\n",
    "    if name == \"SCH - D - Shocking, It's Science!\":\n",
    "        return \"Shocking,\\nIt's Science!\"\n",
    "    if name == \"SCH - D - Get Fired Up!\":\n",
    "        return 'Get Fired Up!'\n",
    "    \n",
    "    return name\n",
    "\n",
    "def get_color(name_colors, name):\n",
    "    \"\"\"Return a color for each unique school name\"\"\"\n",
    "    \n",
    "    if name not in name_colors:\n",
    "         name_colors[name] = sb.color_palette(\"pastel\", n_colors=10)[len(name_colors)]\n",
    "\n",
    "    return name_colors[name]\n",
    "\n",
    "def check_legend(legend_names, name):\n",
    "    \"\"\"Check if the given name has been added to the legend.\"\"\"\n",
    "    \n",
    "    if name in legend_names:\n",
    "        return None\n",
    "    \n",
    "    legend_names[name] = True\n",
    "    return name\n",
    "\n",
    "def generate_schedule(date):\n",
    "    \"\"\"Generate a schedule image and return it.\"\"\"\n",
    "    \n",
    "    locations = {\n",
    "        \"Jack Wood Hall\": 1,\n",
    "        \"Eureka Theater\": 2,\n",
    "        \"Learning Lab\": 3,\n",
    "        \"Green Classroom\": 4,\n",
    "        \"Yellow Classroom\": 5,\n",
    "        \"Sudekum Planetarium\": 6\n",
    "    }\n",
    "    \n",
    "    day = get_date(data, date)\n",
    "\n",
    "    if len(day) == 0:\n",
    "        return\n",
    "        \n",
    "    name_colors = {}\n",
    "    legend_names = {}\n",
    "    \n",
    "    plt.clf()\n",
    "    combo = day.groupby([\"Name\", \"Program\", \"Location\",  \"Start time\", \"End time\", \"Capacity\"]).sum(numeric_only=True).reset_index()\n",
    "    \n",
    "    for i, row in combo.iterrows():\n",
    "        if row.Location is None:\n",
    "            continue\n",
    "    \n",
    "        start = decimal_time(row[\"Start time\"])\n",
    "        end = decimal_time(row[\"End time\"])\n",
    "        duration = end - start\n",
    "        plt.bar(locations[row.Location], duration, bottom=start, label=check_legend(legend_names, row.Name), color=get_color(name_colors, row.Name))\n",
    "        plt.text(locations[row.Location], (start + end)/2, format_name(row.Program) + \"\\n(\"+str(row.Quantity)+\"/\" + str(row.Capacity)+ \")\", ha='center', va='center', wrap=True)\n",
    "    \n",
    "    # Add public shows\n",
    "    plt.bar(2, .5, bottom=12.5, color=(0.5, 0.5, 0.5))\n",
    "    plt.text(2, 12.75, \"Live Science\", ha='center', va='center', wrap=True, color='white')\n",
    "    \n",
    "    plt.bar(6, .5, bottom=11.5, color=(0.5, 0.5, 0.5))\n",
    "    plt.text(6, 11.75, \"Public Show\", ha='center', va='center', wrap=True, color='white')\n",
    "    \n",
    "    plt.bar(6, .5, bottom=13.25, color=(0.5, 0.5, 0.5))\n",
    "    plt.text(6, 13.5, \"Public Show\", ha='center', va='center', wrap=True, color='white')\n",
    "    \n",
    "    plt.bar(6, .5, bottom=14.25, color=(0.5, 0.5, 0.5))\n",
    "    plt.text(6, 14.5, \"Public Show\", ha='center', va='center', wrap=True, color='white')\n",
    "    \n",
    "    \n",
    "    plt.legend(bbox_to_anchor=(0.5, -0.2), loc='lower center', ncol=2)\n",
    "    \n",
    "    plt.title(\"Field Trip Schedule: \" + str(np.min(day.Arrival.dt.date)))\n",
    "    plt.gca().invert_yaxis();\n",
    "    plt.yticks([9, 10, 11, 12, 13, 14, 15], [\"9 AM\", \"10 AM\", \"11 AM\", \"12 PM\", \"1 PM\", \"2 PM\", \"3 PM\"]);\n",
    "    plt.xticks([1, 2, 3, 4, 5, 6], [\"Jack Wood\\nHall\", \"Eureka\\nTheater\", \"Learning\\nLab\", \"Green\\nClassroom\", \"Yellow\\nClassroom\", \"Sudekum\\nPlanetarium\"]);\n",
    "    \n",
    "    fig = plt.gcf()\n",
    "    fig.set_size_inches(10, 8)\n",
    "    plt.tight_layout()\n",
    "\n",
    "    return plt.gcf()\n",
    "    # plt.savefig('schedules/' + str(date) + '.pdf', dpi=300)\n"
   ]
  },
  {
   "cell_type": "code",
   "execution_count": 205,
   "id": "f2ef0568",
   "metadata": {
    "scrolled": true
   },
   "outputs": [],
   "source": [
    "def generate_schedule_from_browser(*args):\n",
    "    \"\"\"Use the date from the date picker to create a schedule\"\"\"\n",
    "    display(browse_date_picker.value)\n",
    "    \n",
    "    browse_output.clear_output()\n",
    "    with browse_output:\n",
    "        display(generate_schedule(browse_date_picker.value))"
   ]
  },
  {
   "cell_type": "code",
   "execution_count": null,
   "id": "b35aa154",
   "metadata": {},
   "outputs": [],
   "source": []
  },
  {
   "cell_type": "code",
   "execution_count": null,
   "id": "7b8ace9e",
   "metadata": {},
   "outputs": [],
   "source": []
  },
  {
   "cell_type": "code",
   "execution_count": null,
   "id": "812133f5",
   "metadata": {},
   "outputs": [],
   "source": []
  },
  {
   "cell_type": "code",
   "execution_count": null,
   "id": "a9d3a7c3",
   "metadata": {},
   "outputs": [],
   "source": []
  },
  {
   "cell_type": "code",
   "execution_count": null,
   "id": "c66c4e03-1c1e-410a-a03a-61d70b1cd4d6",
   "metadata": {},
   "outputs": [],
   "source": []
  },
  {
   "cell_type": "code",
   "execution_count": null,
   "id": "1cc306a4-bcbc-490a-9916-86d1d3907159",
   "metadata": {},
   "outputs": [],
   "source": []
  },
  {
   "cell_type": "code",
   "execution_count": null,
   "id": "fd5b9c20-98d9-4e14-8f83-e31a52ff4ec1",
   "metadata": {},
   "outputs": [],
   "source": []
  }
 ],
 "metadata": {
  "kernelspec": {
   "display_name": "Python 3 (ipykernel)",
   "language": "python",
   "name": "python3"
  },
  "language_info": {
   "codemirror_mode": {
    "name": "ipython",
    "version": 3
   },
   "file_extension": ".py",
   "mimetype": "text/x-python",
   "name": "python",
   "nbconvert_exporter": "python",
   "pygments_lexer": "ipython3",
   "version": "3.11.2"
  }
 },
 "nbformat": 4,
 "nbformat_minor": 5
}
